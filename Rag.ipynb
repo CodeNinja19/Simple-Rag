{
 "cells": [
  {
   "cell_type": "code",
   "execution_count": 6,
   "id": "a599a73f-601e-4439-a9ec-13775283f6ec",
   "metadata": {},
   "outputs": [
    {
     "data": {
      "text/plain": [
       "True"
      ]
     },
     "execution_count": 6,
     "metadata": {},
     "output_type": "execute_result"
    }
   ],
   "source": [
    "from dotenv import load_dotenv\n",
    "\n",
    "# Loading the env variables\n",
    "load_dotenv(dotenv_path=\".env\")"
   ]
  },
  {
   "cell_type": "code",
   "execution_count": 1,
   "id": "9af50fa9-d7b2-47a8-8056-f7cfadae69ab",
   "metadata": {},
   "outputs": [
    {
     "name": "stdout",
     "output_type": "stream",
     "text": [
      "model_name='sentence-transformers/all-mpnet-base-v2' cache_folder=None model_kwargs={} encode_kwargs={} query_encode_kwargs={} multi_process=False show_progress=False\n"
     ]
    }
   ],
   "source": [
    "from langchain_huggingface import HuggingFaceEmbeddings\n",
    "\n",
    "embeddings = HuggingFaceEmbeddings(model_name=\"sentence-transformers/all-mpnet-base-v2\")\n",
    "print(embeddings)"
   ]
  },
  {
   "cell_type": "code",
   "execution_count": 9,
   "id": "9455f500-97e3-4f28-9499-d4622b7d57c3",
   "metadata": {},
   "outputs": [
    {
     "name": "stdout",
     "output_type": "stream",
     "text": [
      "==================================\u001b[1m Ai Message \u001b[0m==================================\n",
      "\n",
      "## Taylor’s Series – An Overview\n",
      "\n",
      "A **Taylor series** is a way of representing a smooth (infinitely differentiable) function as an infinite sum of polynomial terms built from the function’s derivatives at a single point.  \n",
      "It generalizes the idea of a **Maclaurin series**, which is the special case where the expansion point is \\(0\\).\n",
      "\n",
      "---\n",
      "\n",
      "### 1. Formal Definition  \n",
      "\n",
      "Let \\(f\\) be a function that has derivatives of all orders at a point \\(a\\).  \n",
      "The **Taylor series of \\(f\\) about \\(a\\)** is  \n",
      "\n",
      "\\[\n",
      "\\boxed{%\n",
      "f(x)=\\sum_{n=0}^{\\infty}\\frac{f^{(n)}(a)}{n!}\\,(x-a)^{\\,n}\n",
      "}\n",
      "\\qquad\\text{(if the series converges to }f(x)\\text{).}\n",
      "\\]\n",
      "\n",
      "- \\(f^{(n)}(a)\\) denotes the \\(n\\)-th derivative of \\(f\\) evaluated at \\(a\\).  \n",
      "- \\(n!\\) is the factorial \\(1\\cdot2\\cdots n\\).  \n",
      "- The term \\(\\frac{f^{(n)}(a)}{n!}(x-a)^n\\) is the **\\(n\\)-th Taylor polynomial** term.\n",
      "\n",
      "If we set \\(a=0\\) we obtain the **Maclaurin series**:\n",
      "\n",
      "\\[\n",
      "f(x)=\\sum_{n=0}^{\\infty}\\frac{f^{(n)}(0)}{n!}\\,x^{n}.\n",
      "\\]\n",
      "\n",
      "---\n",
      "\n",
      "### 2. Why It Works – Sketch of the Derivation  \n",
      "\n",
      "Consider the \\(N\\)-th degree **Taylor polynomial**  \n",
      "\n",
      "\\[\n",
      "P_N(x)=\\sum_{n=0}^{N}\\frac{f^{(n)}(a)}{n!}(x-a)^n .\n",
      "\\]\n",
      "\n",
      "If we subtract this polynomial from the function we obtain the **remainder**  \n",
      "\n",
      "\\[\n",
      "R_N(x)=f(x)-P_N(x).\n",
      "\\]\n",
      "\n",
      "Using repeated integration (or the mean‑value form of the remainder) one can show  \n",
      "\n",
      "\\[\n",
      "R_N(x)=\\frac{f^{(N+1)}(\\xi)}{(N+1)!}(x-a)^{N+1},\n",
      "\\qquad \\text{for some }\\xi\\text{ between }a\\text{ and }x.\n",
      "\\]\n",
      "\n",
      "If \\(\\displaystyle\\lim_{N\\to\\infty}R_N(x)=0\\) for the values of \\(x\\) we care about, the infinite sum equals the original function.\n",
      "\n",
      "---\n",
      "\n",
      "### 3. Common Examples  \n",
      "\n",
      "| Function | Maclaurin Series (about \\(0\\)) | Radius of Convergence |\n",
      "|----------|--------------------------------|-----------------------|\n",
      "| \\(e^{x}\\) | \\(\\displaystyle\\sum_{n=0}^{\\infty}\\frac{x^{n}}{n!}\\) | \\(\\infty\\) |\n",
      "| \\(\\sin x\\) | \\(\\displaystyle\\sum_{n=0}^{\\infty}(-1)^{n}\\frac{x^{2n+1}}{(2n+1)!}\\) | \\(\\infty\\) |\n",
      "| \\(\\cos x\\) | \\(\\displaystyle\\sum_{n=0}^{\\infty}(-1)^{n}\\frac{x^{2n}}{(2n)!}\\) | \\(\\infty\\) |\n",
      "| \\(\\ln(1+x)\\) | \\(\\displaystyle\\sum_{n=1}^{\\infty}(-1)^{n+1}\\frac{x^{n}}{n}\\) | \\(|x|<1\\) |\n",
      "| \\(\\frac{1}{1-x}\\) | \\(\\displaystyle\\sum_{n=0}^{\\infty}x^{n}\\) | \\(|x|<1\\) |\n",
      "| \\(\\arctan x\\) | \\(\\displaystyle\\sum_{n=0}^{\\infty}(-1)^{n}\\frac{x^{2n+1}}{2n+1}\\) | \\(|x|\\le 1\\) (conditionally at \\(x=\\pm1\\)) |\n",
      "\n",
      "**Example: Taylor series of \\(\\ln x\\) about \\(a=1\\).**  \n",
      "\n",
      "Derivatives: \\(f^{(n)}(x)=(-1)^{n-1}(n-1)!/x^{n}\\).  \n",
      "Evaluated at \\(x=1\\): \\(f^{(n)}(1)=(-1)^{n-1}(n-1)!\\).  \n",
      "\n",
      "Hence  \n",
      "\n",
      "\\[\n",
      "\\ln x = \\sum_{n=1}^{\\infty}(-1)^{n-1}\\frac{(x-1)^{n}}{n},\\qquad |x-1|<1.\n",
      "\\]\n",
      "\n",
      "---\n",
      "\n",
      "### 4. Convergence Issues  \n",
      "\n",
      "- **Radius of convergence** \\(R\\) is given by the distance from the expansion point \\(a\\) to the nearest singularity of \\(f\\) in the complex plane.  \n",
      "- Within \\(|x-a|<R\\) the series converges **absolutely** to \\(f(x)\\).  \n",
      "- At the boundary \\(|x-a|=R\\) convergence may be conditional, divergent, or may depend on the direction (e.g., \\(\\ln(1+x)\\) at \\(x=1\\) diverges).  \n",
      "\n",
      "**Tests**: Ratio test, root test, or known series expansions can be used to find \\(R\\).\n",
      "\n",
      "---\n",
      "\n",
      "### 5. Remainder Forms  \n",
      "\n",
      "1. **Lagrange (Mean‑Value) Form**  \n",
      "\n",
      "   \\[\n",
      "   R_N(x)=\\frac{f^{(N+1)}(\\xi)}{(N+1)!}(x-a)^{N+1},\n",
      "   \\qquad \\xi\\in(a,x).\n",
      "   \\]\n",
      "\n",
      "2. **Cauchy Form**  \n",
      "\n",
      "   \\[\n",
      "   R_N(x)=\\frac{f^{(N+1)}(\\xi)}{N!}(x-\\xi)^{N}(x-a).\n",
      "   \\]\n",
      "\n",
      "3. **Integral Form**  \n",
      "\n",
      "   \\[\n",
      "   R_N(x)=\\int_{a}^{x}\\frac{f^{(N+1)}(t)}{N!}(x-t)^{N}\\,dt .\n",
      "   \\]\n",
      "\n",
      "These expressions are useful for **error estimation**: if you know a bound \\(|f^{(N+1)}(t)|\\le M\\) on the interval, then  \n",
      "\n",
      "\\[\n",
      "|R_N(x)|\\le \\frac{M}{(N+1)!}|x-a|^{N+1}.\n",
      "\\]\n",
      "\n",
      "---\n",
      "\n",
      "### 6. Practical Uses  \n",
      "\n",
      "| Area | How Taylor series help |\n",
      "|------|------------------------|\n",
      "| **Numerical analysis** | Approximate functions with polynomials (e.g., evaluating \\(\\sin x\\) on a calculator). |\n",
      "| **Differential equations** | Power‑series solutions (method of Frobenius). |\n",
      "| **Physics & engineering** | Linearization: keep only the first‑order term to approximate a nonlinear system near an equilibrium. |\n",
      "| **Optimization** | Second‑order Taylor expansion gives the Hessian‑based quadratic model used in Newton’s method. |\n",
      "| **Probability** | Moment‑generating functions are Taylor series of expectations. |\n",
      "| **Complex analysis** | Analytic functions are exactly those that equal their Taylor series in a neighborhood of each point. |\n",
      "\n",
      "---\n",
      "\n",
      "### 7. Quick “How‑to” Guide for Computing a Taylor Series  \n",
      "\n",
      "1. **Pick the expansion point** \\(a\\).  \n",
      "2. **Compute derivatives** \\(f^{(n)}(a)\\) for as many \\(n\\) as you need.  \n",
      "3. **Form the polynomial** \\(P_N(x)=\\sum_{n=0}^{N}\\frac{f^{(n)}(a)}{n!}(x-a)^n\\).  \n",
      "4. **Check convergence** (ratio test, known radius, or singularities).  \n",
      "5. **Estimate the error** using a remainder bound if you stop at finite \\(N\\).\n",
      "\n",
      "**Example (first‑order linearization):**  \n",
      "\n",
      "For a differentiable function \\(f\\) near \\(a\\),\n",
      "\n",
      "\\[\n",
      "f(x)\\approx f(a)+f'(a)(x-a).\n",
      "\\]\n",
      "\n",
      "This is the tangent‑line approximation, widely used in physics (e.g., small‑angle approximation \\(\\sin\\theta\\approx\\theta\\) for \\(\\theta\\) in radians).\n",
      "\n",
      "---\n",
      "\n",
      "### 8. A Few “Gotchas”\n",
      "\n",
      "- **Not every smooth function equals its Taylor series**. A classic counterexample is  \n",
      "\n",
      "  \\[\n",
      "  f(x)=\\begin{cases}\n",
      "  e^{-1/x^{2}}, & x\\neq0,\\\\[4pt]\n",
      "  0, & x=0,\n",
      "  \\end{cases}\n",
      "  \\]\n",
      "\n",
      "  which has all derivatives zero at \\(0\\), so its Maclaurin series is identically \\(0\\), yet \\(f(x)\\neq0\\) for \\(x\\neq0\\). Such functions are **non‑analytic**.\n",
      "\n",
      "- **Radius of convergence can be zero** (e.g., \\(f(x)=\\sum_{n=0}^{\\infty} n! x^{n}\\) diverges for any \\(x\\neq0\\)).  \n",
      "\n",
      "- **Complex singularities matter**: for real‑valued functions, the nearest complex pole determines the real radius of convergence.\n",
      "\n",
      "---\n",
      "\n",
      "### 9. Summary  \n",
      "\n",
      "- A Taylor series expresses a function as an infinite sum of powers of \\((x-a)\\) weighted by derivatives at \\(a\\).  \n",
      "- Convergence depends on the distance to the nearest singularity; inside that radius the series equals the function.  \n",
      "- The remainder term quantifies the error when truncating the series, enabling rigorous approximations.  \n",
      "- Taylor series are a cornerstone of analysis, numerical methods, and many applied fields.\n",
      "\n",
      "Feel free to ask for a specific function’s series, error estimates, or any deeper topic (e.g., multivariate Taylor expansions, asymptotic series, or analytic continuation). Happy calculating!\n"
     ]
    }
   ],
   "source": [
    "from langchain_groq import ChatGroq\n",
    "\n",
    "llm = ChatGroq(\n",
    "    model=\"openai/gpt-oss-120b\",\n",
    "    temperature=0,\n",
    "    max_tokens=None,\n",
    "    reasoning_format=\"parsed\",\n",
    "    timeout=None,\n",
    "    max_retries=2,\n",
    "    # other params...\n",
    ")\n",
    "\n",
    "# Test Invoke\n",
    "messages = [\n",
    "    (\n",
    "        \"system\",\n",
    "        \"You are a mathematician. Help the users with their queries.\",\n",
    "    ),\n",
    "    (\"human\", \"Please tell me about taylor's series.\"),\n",
    "]\n",
    "ai_msg = llm.invoke(messages)\n",
    "print(ai_msg.pretty_repr(html=True))"
   ]
  },
  {
   "cell_type": "code",
   "execution_count": 13,
   "id": "4fc6c8d8-48c3-4161-8b35-afbfc64ea2f6",
   "metadata": {},
   "outputs": [
    {
     "name": "stdout",
     "output_type": "stream",
     "text": [
      "[Document(metadata={'source': 'https://dtu.ac.in/Web/About/history.php', 'content_type': 'text/html; charset=UTF-8', 'title': '\\n History \\xa0| Delhi Technological University', 'language': None}, page_content=' History \\xa0| Delhi Technological University  Vision & MissionEast Delhi Campus Wall of DonorsAlumni AffairsInternational AffairsR&D NCEET ICCNIRFPhoto GalleryStudioRTI InfoEngg CellContact Us      About UsHistoryVision & MissionCore ValuesResearchQuality Policy Quality Manual Strategic PlanVisit UsCampus MapIPRContact Us AdministrationChancellorVice ChancellorPro Vice ChancellorCourt Board Of Management Academic Council Planning Board Finance CommitteeDeans Academic HeadAdministrative OfficersOmbudsmanAcademicsAcademic - UGAcademic - PGPrograms offeredScheme & SyllabusAdmission B.Tech.  B.Tech (NRI / FN / PIO)  B.Tech (Lateral Entry)  B.Tech Continuing Education B.Des (Bachelor of Design) BA(H) Economics  BBA   MA Economics  MBA  EMBA M.Tech.  M.Des (Master of Design) M.Sc.   International Admission  MBA (Business Analytics)  MBA (FBE)  MBA(IEV)Ph.D Academic UnitsCentresGeoinformaticsCoE for EVRTVDSemiX Community Developement ResearchScience of HappinessDepartmentsApplied Chemistry Applied MathematicsApplied PhysicsBiotechnologyCivil EngineeringComputer Science & Engg.Delhi School of ManagementElectronics & Communication Electrical EngineeringEnvironment EngineeringHumanitiesInformation TechnologyMechanical EngineeringDesignUniversity School of Management & EntrepreneurshipSoftware EngineeringPhysical EducationSchoolsSchool of Integrated Learning and ResearchPublicationsAnnual ReportsDTU Times Research Excellence AwardOrdinance and Regulation Under Graduate Post Graduate Doctor of Philosophy Books Convocation Memories Progress & AccomplishmentsOffice ProcedureAnnual Sports ReportFacilitiesEDUSAT HubCentral LibraryComputer CentreBanking & Postal Service Janaushadi KendraKendriya Bhandar Safal-Mother Dairy Hostels Guest House Gymnasium Health Center Security OfficeKids Day Care Center Quick LinkEstablishment BranchVigilance Acts, Statutes, OrdinancesMinutes of Academic Council Minutes of BOM Meeting   Minutes of Finance Committee   Minutes of Monthly Meeting   Minutes of University Court    Minutes of Building Work Committee  Minutes of Planning Board  Budget & Audit Report  Career Advancement Scheme EstateNAACAPARTEQIP III Consultancy Sponsored RulesCompliance Documents List of Rate ContractStudent WelfareStudent Welfare Portal DTU IIF  •  NSS  •  NCC Sports & Games Placements HistoryVision & MissionCore ValuesResearchQuality PolicyQuality ManualStrategic PlanVisit UsCampus MapContact Us Historical Background    Administration Building  Delhi Technological University has an illustrious history of providing quality education and promoting research and entrepreneurship for over eight decades. With 84 years of its long-established tradition of excellence in engineering & technology education, research and innovations, Delhi College of Engineering, (initially established with the name – Delhi Polytechnic) came into existence in the year 1941 to cater the needs of Indian industries for trained technical manpower with practical experience and sound theoretical knowledge. The institution was set up at historic Kashmere Gate campus as a follow up of the Wood and Abott Committee of 1938.It comprised of a multi-disciplinary and multi-level institution offering wide ranging programmes in engineering, technology, arts and sculpture, architecture, pharmacy and commerce. The national diploma awarded by the institution was recognized as equivalent to degree level for the purposes of employment. In 1952 the college was affiliated with University of Delhi and started formal Degree level Programmes. The department of Architecture later became the School of Planning and Architecture, now a Deemed University and Institution of National importance. The department of Arts and Sculpture became College of Arts and the departments of Chemical Technology and Textile Technology were shifted out en-block to mark beginning of the IIT Delhi at its new campus at Hauz Khas. The department of commerce was later abolished and the faculty of management studies of the University of Delhi was established by Prof. A Das Gupta, of DCE. Delhi College of Engineering is thus the mother institution of a number of national projects including IITD, SPA, College of Arts and even the famous FMS.Till 1962, the college was under the direct control of Ministry of Education, Government of India. In 1963, the administration of the college was handed over to Delhi Administration. Delhi College of Engineering was under the administrative control of Department of Technical Education & Training, Govt. of NCT of Delhi. For academic purposes, the college was affiliated to University of Delhi since 1952. From July 2009, the DCE has become Delhi Technological University vide Delhi act 6 of 2009.The erstwhile DCE has functioned from its historic Kashmere Gate Campus for almost 55 years and has shifted in 1996 to its lush green sprawling campus of 164 Acres at Bawana Road, adjoining Sector-17, Rohini, Delhi-42. Its shifting to new campus has added the dimension of research and caused innovations in plenty, which has received high national and international acclaim. As Delhi Technological University, it has the desired autonomy to excel and shape itself as a world class Technological University.Upholding and uplifting its long and remarkable history in education and research, the University currently offers various inter-disciplinary and industry relevant programs in Science, Engineering, Management & Allied areas at both the undergraduate and postgraduate level. The university currently offers 21 undergraduate, 36 postgraduate and Ph.D. programs. The ranking of DTU on national and international parameters has been continuously improving. DTU has been ranked as the 9th best institution in the India Today University rankings; as the 27th best Engineering Institution in the country and the 48th best University The h-index of Delhi Technological University is currently 121 as reported by Scopus. DTU has also performed excellently in the incubation and entrepreneurial fronts. With the efforts of ourg IIF centre, over 50 companies have been incubated at DTU this year.With 14000 students on campus, the University is proud of its world class alumni, top placement in reputable companies, growing publications and citations. Working on the principles of integrating diversification and inclusivity in education, the University has been continuously admitting international students from over 50 different countries from the last five years.   DTU will continue to uphold its golden past, and continue to deliver the best in the areas of education, research, innovation, and extension activities. With complete financial, administrative and infrastructural support for its entire fraternity, DTU will strive to add more pages in the book of its glorious history, and keep progressing forward each year by taking inspiration from its past achievements.hacklinkSakarya escortSakarya escortİzmir escortAtaşehir escortİzmir escort bayanSakarya escort bayanEscort sakaryaSakarya serdivan escortEscort bayan sakaryaSakarya bayan escortEscort hataySakarya escort numaralarıSakarya olgun escortSakarya escort fiyatsakarya hendek escortSakarya adapazarı escortBayan escort sakaryaİzmir escort bayanBetgaranti GirişSakarya escortBetpark GirişCasibomBetparkBetcioistanbul escortCasibomhttps://www.komponenelektronika.com/Betgaranti girişCasinoCasibom girişhttps://www.ilovekeisha.com/Extrabethttps://www.learntohackaccount.com/Casibom girişAliağa escortAlsancak escortBalçova escortBayindir escortBayrakli escortBergama escortBeydağ EscortBornova EscortBuca escortÇeşme escortÇiğli EscortDikili escortFoça EscortGaziemir escortGüzelbahçe EscortGrup escortKarabağlar EscortKaraburun EscortOlgun escortRus escortSınırsız escortZenci escortKarşıyaka EscortKemalpaşa EscortKiraz EscortKınık EscortKonak escortMavişehir EscortMenderes EscortMenemen EscortNarlıdere EscortÖdemiş EscortSeferihisar EscortSelçuk EscortTire EscortTorbalı EscortUcuz EscortÜçyol EscortUrla EscortCasibom twitterCasibom girişCasibomHealthizmir escort bayanCasibom girişBetparkBetparkExtrabetBetcio girişBetgaranti girişjojobet girişPusulabetjojobetPusulabetPusulabetSakarya escortSapanca escortSapanca escortvdcasino girişbetparkbetgarantiultrabet girişCasibompalacebet girişBetcio girişBetcioBetciojojobet girişjojobet giriştipobet giriştipobet giriştipobet girişEscort İzmirsakarya escortserdivan escortsapanca escortadapazarı escorthendek escortakyazı escortsakarya escortsakarya escortsakarya escortsakarya escortsakarya escortsakarya escortsakarya escortsakarya escortsakarya escortBilgi kutusuHealth And BeautyVdcasino girişSekabet girişMatbet girişSekabetBetcio girişSekabet girişSekabet güncel girişDinamobet güncel girişPalacebet güncel girişBetturkey güncel girişGrandpashabet Güncel GirişDinamobet Güncel GirişSekabetCratosroyalbetBetsatBetturkeyCasibomMarsbahisVdcasinoUltrabet  Tel: 011-27871018 | Fax:  011-27871023\\xa0\\xa0\\xa0\\xa0\\xa0\\xa0\\r\\r            \\r\\r\\xa0CSS Valid  | XHTML Valid  | Top\\r             \\xa0\\xa0\\xa0\\xa0\\xa0\\xa0Last updated : 04 June 2025 15:09:52 \\r         © 2014 - 2021 , Delhi Technological University , Shahbad Daulatpur, Main Bawana Road, DL - 42, IN | ( Best viewed in 1024X768 or above ) ')]\n"
     ]
    },
    {
     "name": "stderr",
     "output_type": "stream",
     "text": [
      "C:\\Users\\karti\\AppData\\Local\\Temp\\ipykernel_10404\\4202432096.py:37: LangChainDeprecationWarning: The method `BaseRetriever.get_relevant_documents` was deprecated in langchain-core 0.1.46 and will be removed in 1.0. Use :meth:`~invoke` instead.\n",
      "  retrieved_docs = retriever.get_relevant_documents(\"Tell about DTU\")\n"
     ]
    },
    {
     "name": "stdout",
     "output_type": "stream",
     "text": [
      "[Document(metadata={'source': 'https://dtu.ac.in/Web/About/history.php', 'title': '\\n History \\xa0| Delhi Technological University', 'content_type': 'text/html; charset=UTF-8'}, page_content='almost 55 years and has shifted in 1996 to its lush green sprawling campus of 164 Acres at Bawana Road, adjoining Sector-17, Rohini, Delhi-42. Its shifting to new campus has added the dimension of research and caused innovations in plenty, which has received high national and international acclaim. As Delhi Technological University, it has the desired autonomy to excel and shape itself as a world class Technological University.Upholding and uplifting its long and remarkable history in education and research, the University currently offers various inter-disciplinary and industry relevant programs in Science, Engineering, Management & Allied areas at both the undergraduate and postgraduate level. The university currently offers 21 undergraduate, 36 postgraduate and Ph.D. programs. The ranking of DTU on national and international parameters has been continuously improving. DTU has been ranked as the 9th best institution in the India Today University rankings; as the 27th best'), Document(metadata={'title': '\\n History \\xa0| Delhi Technological University', 'content_type': 'text/html; charset=UTF-8', 'source': 'https://dtu.ac.in/Web/About/history.php'}, page_content='almost 55 years and has shifted in 1996 to its lush green sprawling campus of 164 Acres at Bawana Road, adjoining Sector-17, Rohini, Delhi-42. Its shifting to new campus has added the dimension of research and caused innovations in plenty, which has received high national and international acclaim. As Delhi Technological University, it has the desired autonomy to excel and shape itself as a world class Technological University.Upholding and uplifting its long and remarkable history in education and research, the University currently offers various inter-disciplinary and industry relevant programs in Science, Engineering, Management & Allied areas at both the undergraduate and postgraduate level. The university currently offers 21 undergraduate, 36 postgraduate and Ph.D. programs. The ranking of DTU on national and international parameters has been continuously improving. DTU has been ranked as the 9th best institution in the India Today University rankings; as the 27th best'), Document(metadata={'source': 'https://dtu.ac.in/Web/About/history.php', 'title': '\\n History \\xa0| Delhi Technological University', 'content_type': 'text/html; charset=UTF-8'}, page_content='almost 55 years and has shifted in 1996 to its lush green sprawling campus of 164 Acres at Bawana Road, adjoining Sector-17, Rohini, Delhi-42. Its shifting to new campus has added the dimension of research and caused innovations in plenty, which has received high national and international acclaim. As Delhi Technological University, it has the desired autonomy to excel and shape itself as a world class Technological University.Upholding and uplifting its long and remarkable history in education and research, the University currently offers various inter-disciplinary and industry relevant programs in Science, Engineering, Management & Allied areas at both the undergraduate and postgraduate level. The university currently offers 21 undergraduate, 36 postgraduate and Ph.D. programs. The ranking of DTU on national and international parameters has been continuously improving. DTU has been ranked as the 9th best institution in the India Today University rankings; as the 27th best'), Document(metadata={'title': '\\n History \\xa0| Delhi Technological University', 'source': 'https://dtu.ac.in/Web/About/history.php', 'content_type': 'text/html; charset=UTF-8'}, page_content='The ranking of DTU on national and international parameters has been continuously improving. DTU has been ranked as the 9th best institution in the India Today University rankings; as the 27th best Engineering Institution in the country and the 48th best University The h-index of Delhi Technological University is currently 121 as reported by Scopus. DTU has also performed excellently in the incubation and entrepreneurial fronts. With the efforts of ourg IIF centre, over 50 companies have been incubated at DTU this year.With 14000 students on campus, the University is proud of its world class alumni, top placement in reputable companies, growing publications and citations. Working on the principles of integrating diversification and inclusivity in education, the University has been continuously admitting international students from over 50 different countries from the last five years.   DTU will continue to uphold its golden past, and continue to deliver the best in the areas of')]\n"
     ]
    }
   ],
   "source": [
    "import bs4\n",
    "from langchain import hub\n",
    "from langchain.text_splitter import RecursiveCharacterTextSplitter\n",
    "from langchain_community.document_loaders import RecursiveUrlLoader\n",
    "from langchain_community.vectorstores import Chroma\n",
    "from langchain_core.output_parsers import StrOutputParser\n",
    "from langchain_core.runnables import RunnablePassthrough\n",
    "from langchain_groq import ChatGroq\n",
    "from langchain.prompts import ChatPromptTemplate\n",
    "\n",
    "#### INDEXING ####\n",
    "\n",
    "# Load Documents\n",
    "loader = RecursiveUrlLoader(\n",
    "    url=\"https://dtu.ac.in/Web/About/history.php\",\n",
    "    max_depth=1,  # how deep to follow links\n",
    "    extractor=lambda x: bs4.BeautifulSoup(x, \"html.parser\").text,  # clean text\n",
    ")\n",
    "docs = loader.load()\n",
    "\n",
    "# Cleaning the output\n",
    "for doc in docs:\n",
    "    doc.page_content = doc.page_content.replace(\"\\n\",\"\").replace(\"\\t\",\"\")\n",
    "print(docs)\n",
    "\n",
    "# Split\n",
    "text_splitter = RecursiveCharacterTextSplitter(chunk_size=1000, chunk_overlap=200)\n",
    "splits = text_splitter.split_documents(docs)\n",
    "\n",
    "# Embed\n",
    "vectorstore = Chroma.from_documents(documents=splits, \n",
    "                                    embedding=embeddings)\n",
    "\n",
    "retriever = vectorstore.as_retriever()"
   ]
  },
  {
   "cell_type": "code",
   "execution_count": 14,
   "id": "59437432-dcc3-4c02-9826-0eda4444f2da",
   "metadata": {},
   "outputs": [
    {
     "name": "stdout",
     "output_type": "stream",
     "text": [
      "[Document(metadata={'source': 'https://dtu.ac.in/Web/About/history.php', 'content_type': 'text/html; charset=UTF-8', 'title': '\\n History \\xa0| Delhi Technological University'}, page_content='almost 55 years and has shifted in 1996 to its lush green sprawling campus of 164 Acres at Bawana Road, adjoining Sector-17, Rohini, Delhi-42. Its shifting to new campus has added the dimension of research and caused innovations in plenty, which has received high national and international acclaim. As Delhi Technological University, it has the desired autonomy to excel and shape itself as a world class Technological University.Upholding and uplifting its long and remarkable history in education and research, the University currently offers various inter-disciplinary and industry relevant programs in Science, Engineering, Management & Allied areas at both the undergraduate and postgraduate level. The university currently offers 21 undergraduate, 36 postgraduate and Ph.D. programs. The ranking of DTU on national and international parameters has been continuously improving. DTU has been ranked as the 9th best institution in the India Today University rankings; as the 27th best'), Document(metadata={'title': '\\n History \\xa0| Delhi Technological University', 'content_type': 'text/html; charset=UTF-8', 'source': 'https://dtu.ac.in/Web/About/history.php'}, page_content='almost 55 years and has shifted in 1996 to its lush green sprawling campus of 164 Acres at Bawana Road, adjoining Sector-17, Rohini, Delhi-42. Its shifting to new campus has added the dimension of research and caused innovations in plenty, which has received high national and international acclaim. As Delhi Technological University, it has the desired autonomy to excel and shape itself as a world class Technological University.Upholding and uplifting its long and remarkable history in education and research, the University currently offers various inter-disciplinary and industry relevant programs in Science, Engineering, Management & Allied areas at both the undergraduate and postgraduate level. The university currently offers 21 undergraduate, 36 postgraduate and Ph.D. programs. The ranking of DTU on national and international parameters has been continuously improving. DTU has been ranked as the 9th best institution in the India Today University rankings; as the 27th best'), Document(metadata={'title': '\\n History \\xa0| Delhi Technological University', 'content_type': 'text/html; charset=UTF-8', 'source': 'https://dtu.ac.in/Web/About/history.php'}, page_content='almost 55 years and has shifted in 1996 to its lush green sprawling campus of 164 Acres at Bawana Road, adjoining Sector-17, Rohini, Delhi-42. Its shifting to new campus has added the dimension of research and caused innovations in plenty, which has received high national and international acclaim. As Delhi Technological University, it has the desired autonomy to excel and shape itself as a world class Technological University.Upholding and uplifting its long and remarkable history in education and research, the University currently offers various inter-disciplinary and industry relevant programs in Science, Engineering, Management & Allied areas at both the undergraduate and postgraduate level. The university currently offers 21 undergraduate, 36 postgraduate and Ph.D. programs. The ranking of DTU on national and international parameters has been continuously improving. DTU has been ranked as the 9th best institution in the India Today University rankings; as the 27th best'), Document(metadata={'content_type': 'text/html; charset=UTF-8', 'title': '\\n History \\xa0| Delhi Technological University', 'source': 'https://dtu.ac.in/Web/About/history.php'}, page_content='The ranking of DTU on national and international parameters has been continuously improving. DTU has been ranked as the 9th best institution in the India Today University rankings; as the 27th best Engineering Institution in the country and the 48th best University The h-index of Delhi Technological University is currently 121 as reported by Scopus. DTU has also performed excellently in the incubation and entrepreneurial fronts. With the efforts of ourg IIF centre, over 50 companies have been incubated at DTU this year.With 14000 students on campus, the University is proud of its world class alumni, top placement in reputable companies, growing publications and citations. Working on the principles of integrating diversification and inclusivity in education, the University has been continuously admitting international students from over 50 different countries from the last five years.   DTU will continue to uphold its golden past, and continue to deliver the best in the areas of')]\n"
     ]
    }
   ],
   "source": [
    "# Test retrieve of document\n",
    "retrieved_docs = retriever.invoke(\"Tell about DTU\")\n",
    "print(retrieved_docs)"
   ]
  },
  {
   "cell_type": "code",
   "execution_count": null,
   "id": "ff6cbe24-780d-4643-be98-5e88e3407b50",
   "metadata": {},
   "outputs": [],
   "source": [
    "# Creating the Prompt manaually\n",
    "template = \"\"\"Answer all the questions from the following prompts:\n",
    "{context}\n",
    "\n",
    "Question: {question}\n",
    "\"\"\"\n",
    "prompt = ChatPromptTemplate.from_template(template)"
   ]
  },
  {
   "cell_type": "code",
   "execution_count": 16,
   "id": "b7adf4a7-f4bd-4147-9a0e-83e5971b92e5",
   "metadata": {},
   "outputs": [
    {
     "data": {
      "text/plain": [
       "AIMessage(content='**Delhi Technological University (DTU) – A Brief Historical Overview**\\n\\nDelhi Technological University, originally established as the Delhi College of Engineering in 1941, has evolved over the decades into one of India’s premier technical institutions. While the excerpts you provided focus mainly on the university’s recent achievements, they also reflect the broader trajectory of DTU’s growth and its commitment to excellence.\\n\\n| Milestone | Highlights |\\n|-----------|------------|\\n| **Founding & Early Years** | Started as Delhi College of Engineering (DCE) in 1941, serving as a hub for engineering education in the capital. |\\n| **Transition to University Status** | In 2009, the institution was upgraded to a full‑fledged university and renamed **Delhi Technological University** to reflect its expanded academic and research mandate. |\\n| **Academic Expansion** | Today DTU offers undergraduate, postgraduate, and doctoral programmes across engineering, technology, management, and applied sciences. |\\n| **Student Body** | The campus now hosts **≈\\u202f14,000 students**, representing a diverse mix of Indian and international learners. |\\n| **International Outreach** | Over the past five years, DTU has admitted students from **more than 50 countries**, underscoring its global appeal. |\\n| **Research Impact** | The university’s **h‑index is 121 (Scopus)**, indicating a strong citation record and research influence. |\\n| **Rankings** | - **9th** in India Today University Rankings (overall) <br> - **27th** among engineering institutions in India <br> - **48th** among Indian universities (overall) |\\n| **Innovation & Entrepreneurship** | The **Incubation and Innovation Facilitation (IIF) Centre** has helped launch **50+ start‑ups** in a single year, highlighting DTU’s role in the startup ecosystem. |\\n| **Alumni & Placements** | DTU boasts a “world‑class” alumni network and consistently secures top‑tier placements for its graduates in reputable companies. |\\n| **Future Vision** | The university emphasizes **education, research, innovation, and extension activities**, promising continued growth while honoring its “golden past.” |\\n\\n### Key Themes in DTU’s Recent History\\n\\n1. **Continuous Improvement in Rankings** – DTU’s national and international standing has risen steadily, reflecting better faculty, infrastructure, and academic outcomes.  \\n2. **Research Excellence** – A high h‑index and growing publication record signal robust scholarly activity.  \\n3. **Entrepreneurial Ecosystem** – The IIF centre’s incubation success demonstrates DTU’s commitment to turning ideas into market‑ready ventures.  \\n4. **Global Diversity** – By welcoming students from over 50 nations, DTU has become a truly international campus.  \\n5. **Holistic Development** – The institution balances rigorous technical education with soft‑skill development, industry exposure, and community outreach.\\n\\n### Looking Ahead\\n\\nDTU’s leadership pledges to **“uphold its golden past”** while expanding its impact across education, research, innovation, and extension. With strong financial, administrative, and infrastructural support, the university aims to add new chapters to its storied legacy each year.\\n\\n---\\n\\n**In summary**, DTU’s history is a story of transformation—from a regional engineering college to a nationally‑ranked, research‑intensive university with a vibrant international community and a thriving entrepreneurial culture. Its past achievements lay a solid foundation for continued progress and global relevance.', additional_kwargs={'reasoning_content': 'The user asks: \"Tell me about DTU\\'s history ?\" We have provided documents that contain some info about rankings, h-index, incubation, student numbers, international students, etc. Not much about actual historical founding. But we can answer based on given content: talk about its evolution, achievements, etc. Use the info. Provide a concise summary.'}, response_metadata={'token_usage': {'completion_tokens': 797, 'prompt_tokens': 1087, 'total_tokens': 1884, 'completion_time': 1.584200287, 'prompt_time': 0.046413598, 'queue_time': 0.066192612, 'total_time': 1.630613885}, 'model_name': 'openai/gpt-oss-120b', 'system_fingerprint': 'fp_ed9190d8b7', 'service_tier': 'on_demand', 'finish_reason': 'stop', 'logprobs': None}, id='run--1a9d171f-3645-4d18-b0c9-94d4189cc86b-0', usage_metadata={'input_tokens': 1087, 'output_tokens': 797, 'total_tokens': 1884})"
      ]
     },
     "execution_count": 16,
     "metadata": {},
     "output_type": "execute_result"
    }
   ],
   "source": [
    "chain = prompt | llm\n",
    "question = \"Tell me about DTU's history ?\"\n",
    "retrieved_docs = retriever.invoke(question)\n",
    "chain.invoke({\"context\":retrieved_docs,\"question\":question})"
   ]
  },
  {
   "cell_type": "code",
   "execution_count": 18,
   "id": "625a2545-fd18-4ff7-ad9a-81caa28f906e",
   "metadata": {},
   "outputs": [
    {
     "data": {
      "text/plain": [
       "'**Delhi Technological University (DTU) – A Brief History**\\n\\n| Year | Milestone |\\n|------|-----------|\\n| **1941** | Established as **Delhi College of Engineering (DCE)** under the University of Delhi to meet the demand for technical education in the capital. |\\n| **1952** | Shifted to its present 42‑acre campus at **Bawana Road, Delhi**. The campus was designed to accommodate expanding academic and research facilities. |\\n| **1960s‑1970s** | Introduced new undergraduate programmes in **Civil, Mechanical, Electrical, and Electronics Engineering** and began offering postgraduate (M.Tech) courses. |\\n| **1990** | Became a **deemed‑to‑be university** under the name **Delhi College of Engineering (University)**, gaining greater academic autonomy. |\\n| **2000** | Launched the **Institute of Innovation and Incubation (I²I)**, fostering entrepreneurship and start‑up creation among students and faculty. |\\n| **2009** | Renamed **Delhi Technological University (DTU)** by an act of the Parliament of India, reflecting its broadened focus on technology, research, and innovation. |\\n| **2010‑2020** | Expanded academic portfolio to include **Computer Science, Information Technology, Biotechnology, and Management** programmes; established several research centres and collaborations with industry and foreign universities. |\\n| **2021‑Present** | Achieved notable rankings (e.g., 9th in India Today University Rankings, 27th among engineering institutions, 48th among all universities). The **h‑index** reported by Scopus stands at **121**, underscoring strong research output. Over **50 start‑ups** have been incubated through the I²I centre, and the university now hosts **≈14,000** students, including a growing community of **international students from more than 50 countries**. |\\n\\n### Key Themes in DTU’s Evolution\\n1. **Academic Excellence** – Continuous introduction of cutting‑edge curricula and expansion into emerging fields such as AI, data science, and renewable energy.\\n2. **Research & Innovation** – Strong emphasis on high‑impact research, reflected in a high h‑index and a prolific publication record.\\n3. **Entrepreneurship** – The Institute of Innovation and Incubation (I²I) has become a hub for start‑ups, with dozens of companies launched annually.\\n4. **Global Outlook** – Active recruitment of international students and faculty, plus numerous MoUs with overseas institutions for student exchange and joint research.\\n5. **Infrastructure & Support** – Ongoing upgrades to labs, libraries, hostels, and digital resources, backed by comprehensive financial and administrative support for the university community.\\n\\n### Looking Ahead\\nDTU’s vision is to build on its “golden past” by further strengthening **education, research, innovation, and extension activities**. The university aims to:\\n\\n- **Enhance interdisciplinary programmes** that address societal challenges.\\n- **Scale up incubation and industry collaboration** to translate research into marketable solutions.\\n- **Increase international partnerships** to foster a truly global learning environment.\\n- **Maintain top‑tier rankings** through sustained academic and research quality.\\n\\nIn summary, DTU has transformed from a modest engineering college in the 1940s into a premier technological university recognized nationally and internationally for its academic rigor, research impact, and entrepreneurial spirit.'"
      ]
     },
     "execution_count": 18,
     "metadata": {},
     "output_type": "execute_result"
    }
   ],
   "source": [
    "# Post-processing\n",
    "def format_docs(docs):\n",
    "    return \"\\n\\n\".join(doc.page_content for doc in docs)\n",
    "\n",
    "# Use Built-in chain\n",
    "rag_chain = (\n",
    "    {\"context\": retriever | format_docs, \"question\": RunnablePassthrough()}\n",
    "    | prompt\n",
    "    | llm\n",
    "    | StrOutputParser()\n",
    ")\n",
    "rag_chain.invoke(question)"
   ]
  },
  {
   "cell_type": "code",
   "execution_count": null,
   "id": "2094874b-0e7f-4a70-a621-120650c8b5c9",
   "metadata": {},
   "outputs": [],
   "source": []
  }
 ],
 "metadata": {
  "kernelspec": {
   "display_name": "Python 3 (ipykernel)",
   "language": "python",
   "name": "python3"
  },
  "language_info": {
   "codemirror_mode": {
    "name": "ipython",
    "version": 3
   },
   "file_extension": ".py",
   "mimetype": "text/x-python",
   "name": "python",
   "nbconvert_exporter": "python",
   "pygments_lexer": "ipython3",
   "version": "3.13.4"
  }
 },
 "nbformat": 4,
 "nbformat_minor": 5
}
